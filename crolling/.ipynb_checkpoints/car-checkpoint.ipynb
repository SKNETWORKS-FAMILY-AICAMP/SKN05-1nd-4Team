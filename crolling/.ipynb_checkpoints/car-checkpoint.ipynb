{
 "cells": [
  {
   "cell_type": "code",
   "execution_count": 36,
   "id": "94a741a8-812e-4da8-bb1e-dc65f5bc623d",
   "metadata": {},
   "outputs": [],
   "source": [
    "from selenium import webdriver"
   ]
  },
  {
   "cell_type": "code",
   "execution_count": 43,
   "id": "c7c9cf47-d352-4de5-a3b0-91f322bcb922",
   "metadata": {},
   "outputs": [],
   "source": [
    "from selenium import webdriver\n",
    "\n",
    "wd = webdriver.Chrome()\n",
    "wd.get('https://stat.molit.go.kr/portal/cate/statMetaView.do?hRsId=58&hFormId=1244&hSelectId=1244&hPoint=00&hAppr=1&hDivEng=&oFileName=&rFileName=&midpath=&sFormId=1244&sStart=2015&sEnd=2023&sStyleNum=562&settingRadio=xlsx')\n",
    "\n",
    "\n",
    "element = wd.find_element(By.XPATH, '//*[@id=\"main\"]/div/div[3]/div[1]/div/div[2]/div[2]/div/dl/dd[1]/ul/li[1]/a/em')\n",
    "wd.execute_script(\"arguments[0].click();\", element)\n",
    "\n",
    "html = wd.page_source\n",
    "soup = BeautifulSoup(html,'html.parser')\n"
   ]
  },
  {
   "cell_type": "code",
   "execution_count": 37,
   "id": "f47f5c41-2138-4c4c-a30f-89bdbf90d50b",
   "metadata": {},
   "outputs": [],
   "source": [
    "# # web driver 객체 생성\n",
    "\n",
    "# wd = webdriver.Chrome()\n",
    "# wd.get('https://stat.molit.go.kr/portal/cate/statMetaView.do?hRsId=58&hFormId=1244&hSelectId=1244&hPoint=00&hAppr=1&hDivEng=&oFileName=&rFileName=&midpath=&sFormId=1244&sStart=2015&sEnd=2023&sStyleNum=562&settingRadio=xlsx')"
   ]
  },
  {
   "cell_type": "code",
   "execution_count": 40,
   "id": "101920ca-fe83-48bf-b858-75a4e6b21060",
   "metadata": {
    "scrolled": true
   },
   "outputs": [],
   "source": [
    "# # 지역검색에 대한 링크태그\n",
    "# from bs4 import BeautifulSoup\n",
    "# from selenium.webdriver.common.by import By\n",
    "\n",
    "# html = wd.page_source\n",
    "# soup = BeautifulSoup(html,'html.parser')\n",
    "# region_srh_link  = wd.find_element(By.XPATH,'//*[@id=\"main\"]/div/div[3]/div[1]/div/div[2]/div[2]/div/dl/dd[1]/ul/li[1]/a/em')\n",
    "# region_srh_link.click()\n",
    "\n",
    "\n",
    "\n",
    "\n"
   ]
  },
  {
   "cell_type": "code",
   "execution_count": 44,
   "id": "3ad9bf80-0516-458c-8701-67ccc2a52d6d",
   "metadata": {},
   "outputs": [
    {
     "data": {
      "text/plain": [
       "'2024년_07월_자동차_등록자료_통계.xlsx'"
      ]
     },
     "execution_count": 44,
     "metadata": {},
     "output_type": "execute_result"
    }
   ],
   "source": [
    "file_name = soup.select('#main > div > div.contents-wrap > div.contents > div > div:nth-child(2) > div.mu-accordion-body > div > dl > dd:nth-child(2) > ul > li:nth-child(1) > a > em')[0].text[2:]\n",
    "file_name = file_name.replace(' ','_')\n",
    "file_name"
   ]
  },
  {
   "cell_type": "code",
   "execution_count": 45,
   "id": "69a14bde-f157-4481-b758-a95eb0e2a0b3",
   "metadata": {},
   "outputs": [
    {
     "name": "stdout",
     "output_type": "stream",
     "text": [
      "파일이 다운로드된 경로: 2024년_07월_자동차_등록자료_통계.xlsx\n"
     ]
    }
   ],
   "source": [
    "import requests\n",
    "\n",
    "url = 'https://stat.molit.go.kr/portal/cate/statMetaView.do?hRsId=58&hFormId=1244&hSelectId=1244&hPoint=00&hAppr=1&hDivEng=&oFileName=&rFileName=&midpath=&sFormId=1244&sStart=2015&sEnd=2023&sStyleNum=562&settingRadio=xlsx'\n",
    "response = requests.get(url)\n",
    "with open(f'{file_name}', 'wb') as file:\n",
    "    file.write(response.content)\n",
    "\n",
    "print('파일이 다운로드된 경로:', f'{file_name}')\n"
   ]
  },
  {
   "cell_type": "code",
   "execution_count": 48,
   "id": "e823b111-620e-4fa8-8df8-8a39b804cbcf",
   "metadata": {},
   "outputs": [
    {
     "name": "stdout",
     "output_type": "stream",
     "text": [
      "Collecting openpyxl\n",
      "  Downloading openpyxl-3.1.5-py2.py3-none-any.whl.metadata (2.5 kB)\n",
      "Collecting et-xmlfile (from openpyxl)\n",
      "  Downloading et_xmlfile-1.1.0-py3-none-any.whl.metadata (1.8 kB)\n",
      "Downloading openpyxl-3.1.5-py2.py3-none-any.whl (250 kB)\n",
      "Downloading et_xmlfile-1.1.0-py3-none-any.whl (4.7 kB)\n",
      "Installing collected packages: et-xmlfile, openpyxl\n",
      "Successfully installed et-xmlfile-1.1.0 openpyxl-3.1.5\n",
      "Note: you may need to restart the kernel to use updated packages.\n"
     ]
    }
   ],
   "source": [
    "pip install openpyxl"
   ]
  },
  {
   "cell_type": "code",
   "execution_count": 61,
   "id": "a2c24c1f-c833-463c-925e-26ea5b8bd3d7",
   "metadata": {
    "scrolled": true
   },
   "outputs": [
    {
     "data": {
      "text/html": [
       "<div>\n",
       "<style scoped>\n",
       "    .dataframe tbody tr th:only-of-type {\n",
       "        vertical-align: middle;\n",
       "    }\n",
       "\n",
       "    .dataframe tbody tr th {\n",
       "        vertical-align: top;\n",
       "    }\n",
       "\n",
       "    .dataframe thead tr th {\n",
       "        text-align: left;\n",
       "    }\n",
       "</style>\n",
       "<table border=\"1\" class=\"dataframe\">\n",
       "  <thead>\n",
       "    <tr>\n",
       "      <th></th>\n",
       "      <th>조회년월:</th>\n",
       "      <th colspan=\"20\" halign=\"left\">2024.07</th>\n",
       "    </tr>\n",
       "    <tr>\n",
       "      <th></th>\n",
       "      <th>차종</th>\n",
       "      <th>승용</th>\n",
       "      <th>승용.1</th>\n",
       "      <th>승용.2</th>\n",
       "      <th>승용.3</th>\n",
       "      <th>승합</th>\n",
       "      <th>승합.1</th>\n",
       "      <th>승합.2</th>\n",
       "      <th>승합.3</th>\n",
       "      <th>화물</th>\n",
       "      <th>...</th>\n",
       "      <th>화물.2</th>\n",
       "      <th>화물.3</th>\n",
       "      <th>특수</th>\n",
       "      <th>특수.1</th>\n",
       "      <th>특수.2</th>\n",
       "      <th>특수.3</th>\n",
       "      <th>합계</th>\n",
       "      <th>합계.1</th>\n",
       "      <th>합계.2</th>\n",
       "      <th>합계.3</th>\n",
       "    </tr>\n",
       "  </thead>\n",
       "  <tbody>\n",
       "    <tr>\n",
       "      <th>13</th>\n",
       "      <td>2019</td>\n",
       "      <td>33344</td>\n",
       "      <td>18071723</td>\n",
       "      <td>1072450</td>\n",
       "      <td>19177517</td>\n",
       "      <td>23014</td>\n",
       "      <td>663494</td>\n",
       "      <td>125291</td>\n",
       "      <td>811799</td>\n",
       "      <td>33072</td>\n",
       "      <td>...</td>\n",
       "      <td>416412</td>\n",
       "      <td>3592586</td>\n",
       "      <td>2867</td>\n",
       "      <td>30043</td>\n",
       "      <td>62554</td>\n",
       "      <td>95464</td>\n",
       "      <td>92297</td>\n",
       "      <td>21908362</td>\n",
       "      <td>1676707</td>\n",
       "      <td>23677366</td>\n",
       "    </tr>\n",
       "    <tr>\n",
       "      <th>14</th>\n",
       "      <td>2020</td>\n",
       "      <td>33619</td>\n",
       "      <td>18686570</td>\n",
       "      <td>1140766</td>\n",
       "      <td>19860955</td>\n",
       "      <td>23938</td>\n",
       "      <td>639504</td>\n",
       "      <td>120400</td>\n",
       "      <td>783842</td>\n",
       "      <td>33391</td>\n",
       "      <td>...</td>\n",
       "      <td>425252</td>\n",
       "      <td>3615245</td>\n",
       "      <td>3009</td>\n",
       "      <td>39010</td>\n",
       "      <td>63918</td>\n",
       "      <td>105937</td>\n",
       "      <td>93957</td>\n",
       "      <td>22521686</td>\n",
       "      <td>1750336</td>\n",
       "      <td>24365979</td>\n",
       "    </tr>\n",
       "    <tr>\n",
       "      <th>15</th>\n",
       "      <td>2021</td>\n",
       "      <td>34548</td>\n",
       "      <td>19168262</td>\n",
       "      <td>1207838</td>\n",
       "      <td>20410648</td>\n",
       "      <td>24460</td>\n",
       "      <td>608894</td>\n",
       "      <td>116614</td>\n",
       "      <td>749968</td>\n",
       "      <td>33800</td>\n",
       "      <td>...</td>\n",
       "      <td>438331</td>\n",
       "      <td>3631975</td>\n",
       "      <td>3141</td>\n",
       "      <td>49733</td>\n",
       "      <td>65636</td>\n",
       "      <td>118510</td>\n",
       "      <td>95949</td>\n",
       "      <td>22986733</td>\n",
       "      <td>1828419</td>\n",
       "      <td>24911101</td>\n",
       "    </tr>\n",
       "    <tr>\n",
       "      <th>16</th>\n",
       "      <td>2022</td>\n",
       "      <td>35071</td>\n",
       "      <td>19647975</td>\n",
       "      <td>1269713</td>\n",
       "      <td>20952759</td>\n",
       "      <td>24755</td>\n",
       "      <td>583625</td>\n",
       "      <td>115581</td>\n",
       "      <td>723961</td>\n",
       "      <td>34587</td>\n",
       "      <td>...</td>\n",
       "      <td>450609</td>\n",
       "      <td>3696317</td>\n",
       "      <td>3441</td>\n",
       "      <td>59623</td>\n",
       "      <td>66977</td>\n",
       "      <td>130041</td>\n",
       "      <td>97854</td>\n",
       "      <td>23502344</td>\n",
       "      <td>1902880</td>\n",
       "      <td>25503078</td>\n",
       "    </tr>\n",
       "    <tr>\n",
       "      <th>17</th>\n",
       "      <td>2023</td>\n",
       "      <td>35481</td>\n",
       "      <td>20079294</td>\n",
       "      <td>1275427</td>\n",
       "      <td>21390202</td>\n",
       "      <td>25009</td>\n",
       "      <td>555119</td>\n",
       "      <td>114446</td>\n",
       "      <td>694574</td>\n",
       "      <td>35318</td>\n",
       "      <td>...</td>\n",
       "      <td>465888</td>\n",
       "      <td>3726400</td>\n",
       "      <td>3702</td>\n",
       "      <td>66655</td>\n",
       "      <td>67668</td>\n",
       "      <td>138025</td>\n",
       "      <td>99510</td>\n",
       "      <td>23926262</td>\n",
       "      <td>1923429</td>\n",
       "      <td>25949201</td>\n",
       "    </tr>\n",
       "  </tbody>\n",
       "</table>\n",
       "<p>5 rows × 21 columns</p>\n",
       "</div>"
      ],
      "text/plain": [
       "   조회년월: 2024.07                                                              \\\n",
       "      차종      승용      승용.1     승용.2      승용.3     승합    승합.1    승합.2    승합.3   \n",
       "13  2019   33344  18071723  1072450  19177517  23014  663494  125291  811799   \n",
       "14  2020   33619  18686570  1140766  19860955  23938  639504  120400  783842   \n",
       "15  2021   34548  19168262  1207838  20410648  24460  608894  116614  749968   \n",
       "16  2022   35071  19647975  1269713  20952759  24755  583625  115581  723961   \n",
       "17  2023   35481  20079294  1275427  21390202  25009  555119  114446  694574   \n",
       "\n",
       "           ...                                                                \\\n",
       "       화물  ...    화물.2     화물.3    특수   특수.1   특수.2    특수.3     합계      합계.1   \n",
       "13  33072  ...  416412  3592586  2867  30043  62554   95464  92297  21908362   \n",
       "14  33391  ...  425252  3615245  3009  39010  63918  105937  93957  22521686   \n",
       "15  33800  ...  438331  3631975  3141  49733  65636  118510  95949  22986733   \n",
       "16  34587  ...  450609  3696317  3441  59623  66977  130041  97854  23502344   \n",
       "17  35318  ...  465888  3726400  3702  66655  67668  138025  99510  23926262   \n",
       "\n",
       "                       \n",
       "       합계.2      합계.3  \n",
       "13  1676707  23677366  \n",
       "14  1750336  24365979  \n",
       "15  1828419  24911101  \n",
       "16  1902880  25503078  \n",
       "17  1923429  25949201  \n",
       "\n",
       "[5 rows x 21 columns]"
      ]
     },
     "execution_count": 61,
     "metadata": {},
     "output_type": "execute_result"
    }
   ],
   "source": [
    "data = pd.read_excel(f'/Users/hojunhwang/Downloads/{file_name}', sheet_name='19.연도별 자동차 등록현황',engine='openpyxl',header=[1,2])\n",
    "data = data.dropna(how='all',axis=1)\n",
    "data = data.dropna(how='all',axis=0)\n",
    "car_data = data.loc[13:]\n",
    "car_data."
   ]
  },
  {
   "cell_type": "code",
   "execution_count": null,
   "id": "b48b0cc6-0c3b-4f1b-88e0-f111dbcfd2ea",
   "metadata": {},
   "outputs": [],
   "source": []
  }
 ],
 "metadata": {
  "kernelspec": {
   "display_name": "Python 3 (ipykernel)",
   "language": "python",
   "name": "python3"
  },
  "language_info": {
   "codemirror_mode": {
    "name": "ipython",
    "version": 3
   },
   "file_extension": ".py",
   "mimetype": "text/x-python",
   "name": "python",
   "nbconvert_exporter": "python",
   "pygments_lexer": "ipython3",
   "version": "3.12.4"
  }
 },
 "nbformat": 4,
 "nbformat_minor": 5
}
